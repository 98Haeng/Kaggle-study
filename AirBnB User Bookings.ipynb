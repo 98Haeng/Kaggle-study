{
 "cells": [
  {
   "cell_type": "code",
   "execution_count": 1,
   "metadata": {},
   "outputs": [
    {
     "name": "stdout",
     "output_type": "stream",
     "text": [
      "Note: you may need to restart the kernel to use updated packages.\n"
     ]
    },
    {
     "name": "stderr",
     "output_type": "stream",
     "text": [
      "ERROR: Could not find a version that satisfies the requirement cross_validation (from versions: none)\n",
      "ERROR: No matching distribution found for cross_validation\n"
     ]
    }
   ],
   "source": [
    "pip install cross_validation"
   ]
  },
  {
   "cell_type": "code",
   "execution_count": 3,
   "metadata": {},
   "outputs": [],
   "source": [
    "# pandas\n",
    "import pandas as pd\n",
    "from pandas import Series,DataFrame\n",
    "\n",
    "# numpy, matplotlib, seaborn\n",
    "import numpy as np\n",
    "import matplotlib.pyplot as plt\n",
    "import seaborn as sns\n",
    "sns.set_style('whitegrid')\n",
    "%matplotlib inline\n",
    "\n",
    "# machine learning\n",
    "from sklearn.linear_model import LogisticRegression\n",
    "from sklearn.svm import SVC,LinearSVC\n",
    "from sklearn.ensemble import RandomForestClassifier\n",
    "from sklearn.neighbors import KNeighborsClassifier\n",
    "from sklearn.naive_bayes import GaussianNB\n",
    "from sklearn.model_selection import cross_val_score\n",
    "import xgboost as xgb"
   ]
  },
  {
   "cell_type": "code",
   "execution_count": 4,
   "metadata": {},
   "outputs": [
    {
     "data": {
      "text/html": [
       "<div>\n",
       "<style scoped>\n",
       "    .dataframe tbody tr th:only-of-type {\n",
       "        vertical-align: middle;\n",
       "    }\n",
       "\n",
       "    .dataframe tbody tr th {\n",
       "        vertical-align: top;\n",
       "    }\n",
       "\n",
       "    .dataframe thead th {\n",
       "        text-align: right;\n",
       "    }\n",
       "</style>\n",
       "<table border=\"1\" class=\"dataframe\">\n",
       "  <thead>\n",
       "    <tr style=\"text-align: right;\">\n",
       "      <th></th>\n",
       "      <th>id</th>\n",
       "      <th>date_account_created</th>\n",
       "      <th>timestamp_first_active</th>\n",
       "      <th>date_first_booking</th>\n",
       "      <th>gender</th>\n",
       "      <th>age</th>\n",
       "      <th>signup_method</th>\n",
       "      <th>signup_flow</th>\n",
       "      <th>language</th>\n",
       "      <th>affiliate_channel</th>\n",
       "      <th>affiliate_provider</th>\n",
       "      <th>first_affiliate_tracked</th>\n",
       "      <th>signup_app</th>\n",
       "      <th>first_device_type</th>\n",
       "      <th>first_browser</th>\n",
       "      <th>country_destination</th>\n",
       "    </tr>\n",
       "  </thead>\n",
       "  <tbody>\n",
       "    <tr>\n",
       "      <th>0</th>\n",
       "      <td>gxn3p5htnn</td>\n",
       "      <td>2010-06-28</td>\n",
       "      <td>20090319043255</td>\n",
       "      <td>NaN</td>\n",
       "      <td>-unknown-</td>\n",
       "      <td>NaN</td>\n",
       "      <td>facebook</td>\n",
       "      <td>0</td>\n",
       "      <td>en</td>\n",
       "      <td>direct</td>\n",
       "      <td>direct</td>\n",
       "      <td>untracked</td>\n",
       "      <td>Web</td>\n",
       "      <td>Mac Desktop</td>\n",
       "      <td>Chrome</td>\n",
       "      <td>NDF</td>\n",
       "    </tr>\n",
       "    <tr>\n",
       "      <th>1</th>\n",
       "      <td>820tgsjxq7</td>\n",
       "      <td>2011-05-25</td>\n",
       "      <td>20090523174809</td>\n",
       "      <td>NaN</td>\n",
       "      <td>MALE</td>\n",
       "      <td>38.0</td>\n",
       "      <td>facebook</td>\n",
       "      <td>0</td>\n",
       "      <td>en</td>\n",
       "      <td>seo</td>\n",
       "      <td>google</td>\n",
       "      <td>untracked</td>\n",
       "      <td>Web</td>\n",
       "      <td>Mac Desktop</td>\n",
       "      <td>Chrome</td>\n",
       "      <td>NDF</td>\n",
       "    </tr>\n",
       "    <tr>\n",
       "      <th>2</th>\n",
       "      <td>4ft3gnwmtx</td>\n",
       "      <td>2010-09-28</td>\n",
       "      <td>20090609231247</td>\n",
       "      <td>2010-08-02</td>\n",
       "      <td>FEMALE</td>\n",
       "      <td>56.0</td>\n",
       "      <td>basic</td>\n",
       "      <td>3</td>\n",
       "      <td>en</td>\n",
       "      <td>direct</td>\n",
       "      <td>direct</td>\n",
       "      <td>untracked</td>\n",
       "      <td>Web</td>\n",
       "      <td>Windows Desktop</td>\n",
       "      <td>IE</td>\n",
       "      <td>US</td>\n",
       "    </tr>\n",
       "    <tr>\n",
       "      <th>3</th>\n",
       "      <td>bjjt8pjhuk</td>\n",
       "      <td>2011-12-05</td>\n",
       "      <td>20091031060129</td>\n",
       "      <td>2012-09-08</td>\n",
       "      <td>FEMALE</td>\n",
       "      <td>42.0</td>\n",
       "      <td>facebook</td>\n",
       "      <td>0</td>\n",
       "      <td>en</td>\n",
       "      <td>direct</td>\n",
       "      <td>direct</td>\n",
       "      <td>untracked</td>\n",
       "      <td>Web</td>\n",
       "      <td>Mac Desktop</td>\n",
       "      <td>Firefox</td>\n",
       "      <td>other</td>\n",
       "    </tr>\n",
       "    <tr>\n",
       "      <th>4</th>\n",
       "      <td>87mebub9p4</td>\n",
       "      <td>2010-09-14</td>\n",
       "      <td>20091208061105</td>\n",
       "      <td>2010-02-18</td>\n",
       "      <td>-unknown-</td>\n",
       "      <td>41.0</td>\n",
       "      <td>basic</td>\n",
       "      <td>0</td>\n",
       "      <td>en</td>\n",
       "      <td>direct</td>\n",
       "      <td>direct</td>\n",
       "      <td>untracked</td>\n",
       "      <td>Web</td>\n",
       "      <td>Mac Desktop</td>\n",
       "      <td>Chrome</td>\n",
       "      <td>US</td>\n",
       "    </tr>\n",
       "  </tbody>\n",
       "</table>\n",
       "</div>"
      ],
      "text/plain": [
       "           id date_account_created  timestamp_first_active date_first_booking  \\\n",
       "0  gxn3p5htnn           2010-06-28          20090319043255                NaN   \n",
       "1  820tgsjxq7           2011-05-25          20090523174809                NaN   \n",
       "2  4ft3gnwmtx           2010-09-28          20090609231247         2010-08-02   \n",
       "3  bjjt8pjhuk           2011-12-05          20091031060129         2012-09-08   \n",
       "4  87mebub9p4           2010-09-14          20091208061105         2010-02-18   \n",
       "\n",
       "      gender   age signup_method  signup_flow language affiliate_channel  \\\n",
       "0  -unknown-   NaN      facebook            0       en            direct   \n",
       "1       MALE  38.0      facebook            0       en               seo   \n",
       "2     FEMALE  56.0         basic            3       en            direct   \n",
       "3     FEMALE  42.0      facebook            0       en            direct   \n",
       "4  -unknown-  41.0         basic            0       en            direct   \n",
       "\n",
       "  affiliate_provider first_affiliate_tracked signup_app first_device_type  \\\n",
       "0             direct               untracked        Web       Mac Desktop   \n",
       "1             google               untracked        Web       Mac Desktop   \n",
       "2             direct               untracked        Web   Windows Desktop   \n",
       "3             direct               untracked        Web       Mac Desktop   \n",
       "4             direct               untracked        Web       Mac Desktop   \n",
       "\n",
       "  first_browser country_destination  \n",
       "0        Chrome                 NDF  \n",
       "1        Chrome                 NDF  \n",
       "2            IE                  US  \n",
       "3       Firefox               other  \n",
       "4        Chrome                  US  "
      ]
     },
     "execution_count": 4,
     "metadata": {},
     "output_type": "execute_result"
    }
   ],
   "source": [
    "# airbnb & test 파일을 데이터프레임으로 갖고 오기\n",
    "airbnb_df=pd.read_csv('train_users.csv')\n",
    "test_df=pd.read_csv('test_users.csv')\n",
    "\n",
    "# 데이터 미리보기\n",
    "airbnb_df.head()"
   ]
  },
  {
   "cell_type": "code",
   "execution_count": 6,
   "metadata": {},
   "outputs": [
    {
     "name": "stdout",
     "output_type": "stream",
     "text": [
      "<class 'pandas.core.frame.DataFrame'>\n",
      "RangeIndex: 213451 entries, 0 to 213450\n",
      "Data columns (total 16 columns):\n",
      " #   Column                   Non-Null Count   Dtype  \n",
      "---  ------                   --------------   -----  \n",
      " 0   id                       213451 non-null  object \n",
      " 1   date_account_created     213451 non-null  object \n",
      " 2   timestamp_first_active   213451 non-null  int64  \n",
      " 3   date_first_booking       88908 non-null   object \n",
      " 4   gender                   213451 non-null  object \n",
      " 5   age                      125461 non-null  float64\n",
      " 6   signup_method            213451 non-null  object \n",
      " 7   signup_flow              213451 non-null  int64  \n",
      " 8   language                 213451 non-null  object \n",
      " 9   affiliate_channel        213451 non-null  object \n",
      " 10  affiliate_provider       213451 non-null  object \n",
      " 11  first_affiliate_tracked  207386 non-null  object \n",
      " 12  signup_app               213451 non-null  object \n",
      " 13  first_device_type        213451 non-null  object \n",
      " 14  first_browser            213451 non-null  object \n",
      " 15  country_destination      213451 non-null  object \n",
      "dtypes: float64(1), int64(2), object(13)\n",
      "memory usage: 26.1+ MB\n",
      "-----------------------------------------------\n",
      "<class 'pandas.core.frame.DataFrame'>\n",
      "RangeIndex: 62096 entries, 0 to 62095\n",
      "Data columns (total 15 columns):\n",
      " #   Column                   Non-Null Count  Dtype  \n",
      "---  ------                   --------------  -----  \n",
      " 0   id                       62096 non-null  object \n",
      " 1   date_account_created     62096 non-null  object \n",
      " 2   timestamp_first_active   62096 non-null  int64  \n",
      " 3   date_first_booking       0 non-null      float64\n",
      " 4   gender                   62096 non-null  object \n",
      " 5   age                      33220 non-null  float64\n",
      " 6   signup_method            62096 non-null  object \n",
      " 7   signup_flow              62096 non-null  int64  \n",
      " 8   language                 62096 non-null  object \n",
      " 9   affiliate_channel        62096 non-null  object \n",
      " 10  affiliate_provider       62096 non-null  object \n",
      " 11  first_affiliate_tracked  62076 non-null  object \n",
      " 12  signup_app               62096 non-null  object \n",
      " 13  first_device_type        62096 non-null  object \n",
      " 14  first_browser            62096 non-null  object \n",
      "dtypes: float64(2), int64(2), object(11)\n",
      "memory usage: 7.1+ MB\n"
     ]
    }
   ],
   "source": [
    "airbnb_df.info()\n",
    "print('-----------------------------------------------')\n",
    "test_df.info()"
   ]
  },
  {
   "cell_type": "code",
   "execution_count": 7,
   "metadata": {},
   "outputs": [],
   "source": [
    "# 불필요한 열 삭제\n",
    "airbnb_df=airbnb_df.drop(['date_account_created','timestamp_first_active'],axis=1)\n",
    "test_df=test_df.drop(['date_account_created','timestamp_first_active'],axis=1)"
   ]
  },
  {
   "cell_type": "code",
   "execution_count": 9,
   "metadata": {},
   "outputs": [
    {
     "data": {
      "text/plain": [
       "<AxesSubplot:xlabel='country_destination', ylabel='count'>"
      ]
     },
     "execution_count": 9,
     "metadata": {},
     "output_type": "execute_result"
    },
    {
     "data": {
      "image/png": "[encoded data removed]",
      "text/plain": [
       "<Figure size 1080x360 with 1 Axes>"
      ]
     },
     "metadata": {
      "needs_background": "light"
     },
     "output_type": "display_data"
    }
   ],
   "source": [
    "# 국가 : 목적지\n",
    "airbnb_df['booked']=(airbnb_df['country_destination']!='NDF').astype(int)\n",
    "# test_df['booked']=(test_df['country_destination'] != 'NDF').astype(int)\n",
    "\n",
    "# 모든 국가_목적지 값에 대한 빈도 그림 그리기\n",
    "fig, (axis1)=plt.subplots(1,1,figsize=(15,5))\n",
    "sns.countplot(x='country_destination',data=airbnb_df,palette='husl',ax=axis1)"
   ]
  },
  {
   "cell_type": "markdown",
   "metadata": {},
   "source": [
    "NDF : 예약없음"
   ]
  },
  {
   "cell_type": "code",
   "execution_count": 12,
   "metadata": {},
   "outputs": [
    {
     "data": {
      "image/png": "[encoded data removed]",
      "text/plain": [
       "<Figure size 1080x576 with 2 Axes>"
      ]
     },
     "metadata": {
      "needs_background": "light"
     },
     "output_type": "display_data"
    }
   ],
   "source": [
    "# 첫번째 부킹 날짜 (date_first_booking 칼럼)\n",
    "def get_year(date):\n",
    "    if date==date:\n",
    "        return int(str(date)[:4])\n",
    "    return date\n",
    "\n",
    "def get_month(date):\n",
    "    if date==date:\n",
    "        return int(str(date)[5:7])\n",
    "    return date\n",
    "\n",
    "# 연도, 월 칼럼 만들기\n",
    "airbnb_df['Year']=airbnb_df['date_first_booking'].apply(get_year)\n",
    "airbnb_df['Month']=airbnb_df['date_first_booking'].apply(get_month)\n",
    "\n",
    "test_df['Year']=test_df['date_first_booking'].apply(get_year)\n",
    "test_df['Month']=test_df['date_first_booking'].apply(get_month)\n",
    "\n",
    "# NaN 채우기\n",
    "airbnb_df['Year'].fillna(airbnb_df['Year'].median(),inplace=True)\n",
    "airbnb_df['Month'].fillna(airbnb_df['Month'].median(),inplace=True)\n",
    "\n",
    "test_df['Year'].fillna(test_df['Year'].median(), inplace=True)\n",
    "test_df['Month'].fillna(test_df['Month'].median(), inplace=True)\n",
    "\n",
    "# int타입으로 바꾸기\n",
    "airbnb_df[['Year','Month']]=airbnb_df[['Year','Month']].astype(int)\n",
    "# test_df[['Year', 'Month']]   = test_df[['Year', 'Month']].astype(int)\n",
    "\n",
    "# 그래프로 나타내기\n",
    "fig, (axis1,axis2)=plt.subplots(2,1,sharex=True,figsize=(15,8))\n",
    "\n",
    "# 연도별 country_destination 빈도\n",
    "sns.countplot(x='Year',hue='country_destination',data=airbnb_df[airbnb_df['country_destination']!='NDF'],palette='husl',ax=axis1)\n",
    "\n",
    "# 매년 예약한 사용자 수 vs 예약하지 않은 사용자 수\n",
    "# 2014년과 2015년에는 \"예약 없음\"이 없었음.\n",
    "sns.countplot(x='Year',hue='booked',data=airbnb_df,palette='husl',order=[2010,2011,2012,2013,2014,2015],ax=axis2)\n",
    "\n",
    "# 칼럼 제거\n",
    "airbnb_df.drop(['date_first_booking','Month'],axis=1,inplace=True)\n",
    "test_df.drop(['date_first_booking','Month'],axis=1,inplace=True)"
   ]
  },
  {
   "cell_type": "code",
   "execution_count": 14,
   "metadata": {},
   "outputs": [
    {
     "data": {
      "image/png": "[encoded data removed]",
      "text/plain": [
       "<Figure size 1080x576 with 2 Axes>"
      ]
     },
     "metadata": {
      "needs_background": "light"
     },
     "output_type": "display_data"
    }
   ],
   "source": [
    "# gender\n",
    "\n",
    "i=0\n",
    "def get_gender(gender):\n",
    "    global i\n",
    "    # global : 전역변수로 설정 -> 바깥의 영역에서 사용가능하게 하는 기능\n",
    "    if gender!='FEMALE' and gender!='MALE':\n",
    "        return 'FEMALE' if (i % 2) else 'MALE'\n",
    "    i=i+1\n",
    "    return gender\n",
    "\n",
    "# FEMALE, MALE을 제외한 모든 다른 변수들을 교체함\n",
    "airbnb_df['gender']=airbnb_df['gender'].apply(get_gender)\n",
    "test_df['gender']=test_df['gender'].apply(get_gender)\n",
    "\n",
    "# Plot\n",
    "fig, (axis1,axis2)=plt.subplots(2,1,sharex=True,figsize=(15,8))\n",
    "\n",
    "# 모든 성별에 대한 country_destination의 빈도 (목적지가 없는 경우 제외)\n",
    "sns.countplot(x='gender',hue='country_destination',data=airbnb_df[airbnb_df['country_destination']!='NDF'],palette='husl',ax=axis1)\n",
    "\n",
    "# 성별에 따라 예약한 사용자 수(booked) V vs 예약하지 않은 사용자 수(no-booking)\n",
    "sns.countplot(x='gender',hue='booked',data=airbnb_df,palette='husl',ax=axis2)\n",
    "\n",
    "# gender data를 1과 0으로 바꿔주기\n",
    "airbnb_df['gender']=airbnb_df['gender'].map({'FEMALE':1,'MALE':0})\n",
    "test_df['gender']=test_df['gender'].map({'FEMALE':1,'MALE':0})\n",
    "\n",
    "# 칼럼 제거\n",
    "airbnb_df.drop(['gender'],axis=1,inplace=True)\n",
    "test_df.drop(['gender'],axis=1,inplace=True)"
   ]
  },
  {
   "cell_type": "code",
   "execution_count": 17,
   "metadata": {},
   "outputs": [
    {
     "name": "stderr",
     "output_type": "stream",
     "text": [
      "<ipython-input-17-8271f38bee32>:4: SettingWithCopyWarning: \n",
      "A value is trying to be set on a copy of a slice from a DataFrame\n",
      "\n",
      "See the caveats in the documentation: https://pandas.pydata.org/pandas-docs/stable/user_guide/indexing.html#returning-a-view-versus-a-copy\n",
      "  airbnb_df['age'][airbnb_df['age']>100]=np.NaN\n",
      "<ipython-input-17-8271f38bee32>:5: SettingWithCopyWarning: \n",
      "A value is trying to be set on a copy of a slice from a DataFrame\n",
      "\n",
      "See the caveats in the documentation: https://pandas.pydata.org/pandas-docs/stable/user_guide/indexing.html#returning-a-view-versus-a-copy\n",
      "  test_df['age'][test_df['age']>100]=np.NaN\n",
      "<ipython-input-17-8271f38bee32>:22: SettingWithCopyWarning: \n",
      "A value is trying to be set on a copy of a slice from a DataFrame\n",
      "\n",
      "See the caveats in the documentation: https://pandas.pydata.org/pandas-docs/stable/user_guide/indexing.html#returning-a-view-versus-a-copy\n",
      "  airbnb_df[\"age\"][np.isnan(airbnb_df[\"age\"])] = rand_1\n",
      "<ipython-input-17-8271f38bee32>:23: SettingWithCopyWarning: \n",
      "A value is trying to be set on a copy of a slice from a DataFrame\n",
      "\n",
      "See the caveats in the documentation: https://pandas.pydata.org/pandas-docs/stable/user_guide/indexing.html#returning-a-view-versus-a-copy\n",
      "  test_df[\"age\"][np.isnan(test_df[\"age\"])]     = rand_2\n"
     ]
    }
   ],
   "source": [
    "# age\n",
    "\n",
    "# 100이상인 모든 연령 값을 NaN에 할당하고, 이 NaN 값은 아래의 실제 연령으로 대체\n",
    "airbnb_df['age'][airbnb_df['age']>100]=np.NaN\n",
    "test_df['age'][test_df['age']>100]=np.NaN\n",
    "\n",
    "# Airbnb_df에서 NaN 값의 평균, std 및 개수를 가져옴.\n",
    "average_age_airbnb=airbnb_df['age'].mean()\n",
    "std_age_airbnb=airbnb_df['age'].std()\n",
    "count_nan_age_airbnb=airbnb_df['age'].isnull().sum()\n",
    "\n",
    "# test_df에서 NaN 값의 평균, std 및 개수를 가져옴.\n",
    "average_age_test   = test_df[\"age\"].mean()\n",
    "std_age_test       = test_df[\"age\"].std()\n",
    "count_nan_age_test = test_df[\"age\"].isnull().sum()\n",
    "\n",
    "# (평균 - 표준)과 (평균 + 표준) 사이에 난수 생성\n",
    "rand_1 = np.random.randint(average_age_airbnb - std_age_airbnb, average_age_airbnb + std_age_airbnb, size = count_nan_age_airbnb)\n",
    "rand_2 = np.random.randint(average_age_test - std_age_test, average_age_test + std_age_test, size = count_nan_age_test)\n",
    "\n",
    "# 연령 열의 NaN 값을 생성된 임의의 값으로 채움.\n",
    "airbnb_df[\"age\"][np.isnan(airbnb_df[\"age\"])] = rand_1\n",
    "test_df[\"age\"][np.isnan(test_df[\"age\"])]     = rand_2\n",
    "\n",
    "# 정수로 변환\n",
    "airbnb_df['age']=airbnb_df['age'].astype(int)\n",
    "test_df['age']=test_df['age'].astype(int)"
   ]
  },
  {
   "cell_type": "code",
   "execution_count": 18,
   "metadata": {},
   "outputs": [
    {
     "data": {
      "image/png": "[encoded data removed]",
      "text/plain": [
       "<Figure size 1080x720 with 2 Axes>"
      ]
     },
     "metadata": {
      "needs_background": "light"
     },
     "output_type": "display_data"
    }
   ],
   "source": [
    "# age 이어서\n",
    "\n",
    "# plot\n",
    "fig, (axis1,axis2)=plt.subplots(2,1,figsize=(15,10))\n",
    "\n",
    "# 연령 값에 대한 빈도(예약이 있는 경우)\n",
    "airbnb_df['age'][airbnb_df['country_destination']!='NDF'].hist(ax=axis1)\n",
    "\n",
    "# 나이 값을 범위로 나누기\n",
    "airbnb_df['age_range']=pd.cut(airbnb_df['age'],[0,20,40,60,80,100])\n",
    "# 각 연령대의 country_destination 빈도\n",
    "sns.countplot(x='age_range',hue='country_destination',data=airbnb_df[airbnb_df['country_destination']!='NDF'],palette='husl',ax=axis2)\n",
    "\n",
    "# age_range 제거\n",
    "airbnb_df.drop(['age_range'],axis=1,inplace=True)\n",
    "\n",
    "# 칼럼 제거\n",
    "airbnb_df.drop(['age'],axis=1,inplace=True)\n",
    "test_df.drop(['age'],axis=1,inplace=True)"
   ]
  },
  {
   "cell_type": "code",
   "execution_count": 32,
   "metadata": {},
   "outputs": [
    {
     "name": "stderr",
     "output_type": "stream",
     "text": [
      "<ipython-input-32-1cb1602f9410>:15: SettingWithCopyWarning: \n",
      "A value is trying to be set on a copy of a slice from a DataFrame\n",
      "\n",
      "See the caveats in the documentation: https://pandas.pydata.org/pandas-docs/stable/user_guide/indexing.html#returning-a-view-versus-a-copy\n",
      "  airbnb_df[\"first_affiliate_tracked\"][airbnb_df[\"first_affiliate_tracked\"] != airbnb_df[\"first_affiliate_tracked\"]] = range_departments_airbnb[rand_1]\n"
     ]
    },
    {
     "ename": "AssertionError",
     "evalue": "",
     "output_type": "error",
     "traceback": [
      "\u001b[1;31m---------------------------------------------------------------------------\u001b[0m",
      "\u001b[1;31mTypeError\u001b[0m                                 Traceback (most recent call last)",
      "\u001b[1;32mC:\\anaconda\\lib\\site-packages\\pandas\\core\\series.py\u001b[0m in \u001b[0;36m__setitem__\u001b[1;34m(self, key, value)\u001b[0m\n\u001b[0;32m    999\u001b[0m         \u001b[1;32mtry\u001b[0m\u001b[1;33m:\u001b[0m\u001b[1;33m\u001b[0m\u001b[1;33m\u001b[0m\u001b[0m\n\u001b[1;32m-> 1000\u001b[1;33m             \u001b[0mself\u001b[0m\u001b[1;33m.\u001b[0m\u001b[0m_set_with_engine\u001b[0m\u001b[1;33m(\u001b[0m\u001b[0mkey\u001b[0m\u001b[1;33m,\u001b[0m \u001b[0mvalue\u001b[0m\u001b[1;33m)\u001b[0m\u001b[1;33m\u001b[0m\u001b[1;33m\u001b[0m\u001b[0m\n\u001b[0m\u001b[0;32m   1001\u001b[0m         \u001b[1;32mexcept\u001b[0m \u001b[1;33m(\u001b[0m\u001b[0mKeyError\u001b[0m\u001b[1;33m,\u001b[0m \u001b[0mValueError\u001b[0m\u001b[1;33m)\u001b[0m\u001b[1;33m:\u001b[0m\u001b[1;33m\u001b[0m\u001b[1;33m\u001b[0m\u001b[0m\n",
      "\u001b[1;32mC:\\anaconda\\lib\\site-packages\\pandas\\core\\series.py\u001b[0m in \u001b[0;36m_set_with_engine\u001b[1;34m(self, key, value)\u001b[0m\n\u001b[0;32m   1032\u001b[0m         \u001b[1;31m# fails with AttributeError for IntervalIndex\u001b[0m\u001b[1;33m\u001b[0m\u001b[1;33m\u001b[0m\u001b[1;33m\u001b[0m\u001b[0m\n\u001b[1;32m-> 1033\u001b[1;33m         \u001b[0mloc\u001b[0m \u001b[1;33m=\u001b[0m \u001b[0mself\u001b[0m\u001b[1;33m.\u001b[0m\u001b[0mindex\u001b[0m\u001b[1;33m.\u001b[0m\u001b[0m_engine\u001b[0m\u001b[1;33m.\u001b[0m\u001b[0mget_loc\u001b[0m\u001b[1;33m(\u001b[0m\u001b[0mkey\u001b[0m\u001b[1;33m)\u001b[0m\u001b[1;33m\u001b[0m\u001b[1;33m\u001b[0m\u001b[0m\n\u001b[0m\u001b[0;32m   1034\u001b[0m         \u001b[0mvalidate_numeric_casting\u001b[0m\u001b[1;33m(\u001b[0m\u001b[0mself\u001b[0m\u001b[1;33m.\u001b[0m\u001b[0mdtype\u001b[0m\u001b[1;33m,\u001b[0m \u001b[0mvalue\u001b[0m\u001b[1;33m)\u001b[0m\u001b[1;33m\u001b[0m\u001b[1;33m\u001b[0m\u001b[0m\n",
      "\u001b[1;32mpandas\\_libs\\index.pyx\u001b[0m in \u001b[0;36mpandas._libs.index.IndexEngine.get_loc\u001b[1;34m()\u001b[0m\n",
      "\u001b[1;32mpandas\\_libs\\index.pyx\u001b[0m in \u001b[0;36mpandas._libs.index.IndexEngine.get_loc\u001b[1;34m()\u001b[0m\n",
      "\u001b[1;31mTypeError\u001b[0m: '0         False\n1         False\n2         False\n3         False\n4         False\n          ...  \n213446    False\n213447    False\n213448    False\n213449    False\n213450    False\nName: first_affiliate_tracked, Length: 213451, dtype: bool' is an invalid key",
      "\nDuring handling of the above exception, another exception occurred:\n",
      "\u001b[1;31mAssertionError\u001b[0m                            Traceback (most recent call last)",
      "\u001b[1;32m<ipython-input-32-1cb1602f9410>\u001b[0m in \u001b[0;36m<module>\u001b[1;34m\u001b[0m\n\u001b[0;32m     13\u001b[0m \u001b[0mrange_departments_test\u001b[0m   \u001b[1;33m=\u001b[0m \u001b[0mtest_df\u001b[0m\u001b[1;33m[\u001b[0m\u001b[1;34m'first_affiliate_tracked'\u001b[0m\u001b[1;33m]\u001b[0m\u001b[1;33m.\u001b[0m\u001b[0mvalue_counts\u001b[0m\u001b[1;33m(\u001b[0m\u001b[1;33m)\u001b[0m\u001b[1;33m.\u001b[0m\u001b[0mindex\u001b[0m\u001b[1;33m\u001b[0m\u001b[1;33m\u001b[0m\u001b[0m\n\u001b[0;32m     14\u001b[0m \u001b[1;33m\u001b[0m\u001b[0m\n\u001b[1;32m---> 15\u001b[1;33m \u001b[0mairbnb_df\u001b[0m\u001b[1;33m[\u001b[0m\u001b[1;34m\"first_affiliate_tracked\"\u001b[0m\u001b[1;33m]\u001b[0m\u001b[1;33m[\u001b[0m\u001b[0mairbnb_df\u001b[0m\u001b[1;33m[\u001b[0m\u001b[1;34m\"first_affiliate_tracked\"\u001b[0m\u001b[1;33m]\u001b[0m \u001b[1;33m!=\u001b[0m \u001b[0mairbnb_df\u001b[0m\u001b[1;33m[\u001b[0m\u001b[1;34m\"first_affiliate_tracked\"\u001b[0m\u001b[1;33m]\u001b[0m\u001b[1;33m]\u001b[0m \u001b[1;33m=\u001b[0m \u001b[0mrange_departments_airbnb\u001b[0m\u001b[1;33m[\u001b[0m\u001b[0mrand_1\u001b[0m\u001b[1;33m]\u001b[0m\u001b[1;33m\u001b[0m\u001b[1;33m\u001b[0m\u001b[0m\n\u001b[0m\u001b[0;32m     16\u001b[0m \u001b[0mtest_df\u001b[0m\u001b[1;33m[\u001b[0m\u001b[1;34m\"first_affiliate_tracked\"\u001b[0m\u001b[1;33m]\u001b[0m\u001b[1;33m[\u001b[0m\u001b[0mtest_df\u001b[0m\u001b[1;33m[\u001b[0m\u001b[1;34m\"first_affiliate_tracked\"\u001b[0m\u001b[1;33m]\u001b[0m \u001b[1;33m!=\u001b[0m \u001b[0mtest_df\u001b[0m\u001b[1;33m[\u001b[0m\u001b[1;34m\"first_affiliate_tracked\"\u001b[0m\u001b[1;33m]\u001b[0m\u001b[1;33m]\u001b[0m       \u001b[1;33m=\u001b[0m \u001b[0mrange_departments_test\u001b[0m\u001b[1;33m[\u001b[0m\u001b[0mrand_2\u001b[0m\u001b[1;33m]\u001b[0m\u001b[1;33m\u001b[0m\u001b[1;33m\u001b[0m\u001b[0m\n\u001b[0;32m     17\u001b[0m \u001b[1;33m\u001b[0m\u001b[0m\n",
      "\u001b[1;32mC:\\anaconda\\lib\\site-packages\\pandas\\core\\series.py\u001b[0m in \u001b[0;36m__setitem__\u001b[1;34m(self, key, value)\u001b[0m\n\u001b[0;32m   1018\u001b[0m                 \u001b[0mkey\u001b[0m \u001b[1;33m=\u001b[0m \u001b[0mnp\u001b[0m\u001b[1;33m.\u001b[0m\u001b[0masarray\u001b[0m\u001b[1;33m(\u001b[0m\u001b[0mkey\u001b[0m\u001b[1;33m,\u001b[0m \u001b[0mdtype\u001b[0m\u001b[1;33m=\u001b[0m\u001b[0mbool\u001b[0m\u001b[1;33m)\u001b[0m\u001b[1;33m\u001b[0m\u001b[1;33m\u001b[0m\u001b[0m\n\u001b[0;32m   1019\u001b[0m                 \u001b[1;32mtry\u001b[0m\u001b[1;33m:\u001b[0m\u001b[1;33m\u001b[0m\u001b[1;33m\u001b[0m\u001b[0m\n\u001b[1;32m-> 1020\u001b[1;33m                     \u001b[0mself\u001b[0m\u001b[1;33m.\u001b[0m\u001b[0m_where\u001b[0m\u001b[1;33m(\u001b[0m\u001b[1;33m~\u001b[0m\u001b[0mkey\u001b[0m\u001b[1;33m,\u001b[0m \u001b[0mvalue\u001b[0m\u001b[1;33m,\u001b[0m \u001b[0minplace\u001b[0m\u001b[1;33m=\u001b[0m\u001b[1;32mTrue\u001b[0m\u001b[1;33m)\u001b[0m\u001b[1;33m\u001b[0m\u001b[1;33m\u001b[0m\u001b[0m\n\u001b[0m\u001b[0;32m   1021\u001b[0m                 \u001b[1;32mexcept\u001b[0m \u001b[0mInvalidIndexError\u001b[0m\u001b[1;33m:\u001b[0m\u001b[1;33m\u001b[0m\u001b[1;33m\u001b[0m\u001b[0m\n\u001b[0;32m   1022\u001b[0m                     \u001b[0mself\u001b[0m\u001b[1;33m.\u001b[0m\u001b[0miloc\u001b[0m\u001b[1;33m[\u001b[0m\u001b[0mkey\u001b[0m\u001b[1;33m]\u001b[0m \u001b[1;33m=\u001b[0m \u001b[0mvalue\u001b[0m\u001b[1;33m\u001b[0m\u001b[1;33m\u001b[0m\u001b[0m\n",
      "\u001b[1;32mC:\\anaconda\\lib\\site-packages\\pandas\\core\\generic.py\u001b[0m in \u001b[0;36m_where\u001b[1;34m(self, cond, other, inplace, axis, level, errors, try_cast)\u001b[0m\n\u001b[0;32m   8852\u001b[0m \u001b[1;33m\u001b[0m\u001b[0m\n\u001b[0;32m   8853\u001b[0m             \u001b[0mself\u001b[0m\u001b[1;33m.\u001b[0m\u001b[0m_check_inplace_setting\u001b[0m\u001b[1;33m(\u001b[0m\u001b[0mother\u001b[0m\u001b[1;33m)\u001b[0m\u001b[1;33m\u001b[0m\u001b[1;33m\u001b[0m\u001b[0m\n\u001b[1;32m-> 8854\u001b[1;33m             new_data = self._mgr.putmask(\n\u001b[0m\u001b[0;32m   8855\u001b[0m                 \u001b[0mmask\u001b[0m\u001b[1;33m=\u001b[0m\u001b[0mcond\u001b[0m\u001b[1;33m,\u001b[0m \u001b[0mnew\u001b[0m\u001b[1;33m=\u001b[0m\u001b[0mother\u001b[0m\u001b[1;33m,\u001b[0m \u001b[0malign\u001b[0m\u001b[1;33m=\u001b[0m\u001b[0malign\u001b[0m\u001b[1;33m,\u001b[0m \u001b[0maxis\u001b[0m\u001b[1;33m=\u001b[0m\u001b[0mblock_axis\u001b[0m\u001b[1;33m,\u001b[0m\u001b[1;33m\u001b[0m\u001b[1;33m\u001b[0m\u001b[0m\n\u001b[0;32m   8856\u001b[0m             )\n",
      "\u001b[1;32mC:\\anaconda\\lib\\site-packages\\pandas\\core\\internals\\managers.py\u001b[0m in \u001b[0;36mputmask\u001b[1;34m(self, mask, new, align, axis)\u001b[0m\n\u001b[0;32m    545\u001b[0m             \u001b[0mnew\u001b[0m \u001b[1;33m=\u001b[0m \u001b[0mextract_array\u001b[0m\u001b[1;33m(\u001b[0m\u001b[0mnew\u001b[0m\u001b[1;33m,\u001b[0m \u001b[0mextract_numpy\u001b[0m\u001b[1;33m=\u001b[0m\u001b[1;32mTrue\u001b[0m\u001b[1;33m)\u001b[0m\u001b[1;33m\u001b[0m\u001b[1;33m\u001b[0m\u001b[0m\n\u001b[0;32m    546\u001b[0m \u001b[1;33m\u001b[0m\u001b[0m\n\u001b[1;32m--> 547\u001b[1;33m         return self.apply(\n\u001b[0m\u001b[0;32m    548\u001b[0m             \u001b[1;34m\"putmask\"\u001b[0m\u001b[1;33m,\u001b[0m\u001b[1;33m\u001b[0m\u001b[1;33m\u001b[0m\u001b[0m\n\u001b[0;32m    549\u001b[0m             \u001b[0malign_keys\u001b[0m\u001b[1;33m=\u001b[0m\u001b[0malign_keys\u001b[0m\u001b[1;33m,\u001b[0m\u001b[1;33m\u001b[0m\u001b[1;33m\u001b[0m\u001b[0m\n",
      "\u001b[1;32mC:\\anaconda\\lib\\site-packages\\pandas\\core\\internals\\managers.py\u001b[0m in \u001b[0;36mapply\u001b[1;34m(self, f, align_keys, **kwargs)\u001b[0m\n\u001b[0;32m    404\u001b[0m                 \u001b[0mapplied\u001b[0m \u001b[1;33m=\u001b[0m \u001b[0mb\u001b[0m\u001b[1;33m.\u001b[0m\u001b[0mapply\u001b[0m\u001b[1;33m(\u001b[0m\u001b[0mf\u001b[0m\u001b[1;33m,\u001b[0m \u001b[1;33m**\u001b[0m\u001b[0mkwargs\u001b[0m\u001b[1;33m)\u001b[0m\u001b[1;33m\u001b[0m\u001b[1;33m\u001b[0m\u001b[0m\n\u001b[0;32m    405\u001b[0m             \u001b[1;32melse\u001b[0m\u001b[1;33m:\u001b[0m\u001b[1;33m\u001b[0m\u001b[1;33m\u001b[0m\u001b[0m\n\u001b[1;32m--> 406\u001b[1;33m                 \u001b[0mapplied\u001b[0m \u001b[1;33m=\u001b[0m \u001b[0mgetattr\u001b[0m\u001b[1;33m(\u001b[0m\u001b[0mb\u001b[0m\u001b[1;33m,\u001b[0m \u001b[0mf\u001b[0m\u001b[1;33m)\u001b[0m\u001b[1;33m(\u001b[0m\u001b[1;33m**\u001b[0m\u001b[0mkwargs\u001b[0m\u001b[1;33m)\u001b[0m\u001b[1;33m\u001b[0m\u001b[1;33m\u001b[0m\u001b[0m\n\u001b[0m\u001b[0;32m    407\u001b[0m             \u001b[0mresult_blocks\u001b[0m \u001b[1;33m=\u001b[0m \u001b[0m_extend_blocks\u001b[0m\u001b[1;33m(\u001b[0m\u001b[0mapplied\u001b[0m\u001b[1;33m,\u001b[0m \u001b[0mresult_blocks\u001b[0m\u001b[1;33m)\u001b[0m\u001b[1;33m\u001b[0m\u001b[1;33m\u001b[0m\u001b[0m\n\u001b[0;32m    408\u001b[0m \u001b[1;33m\u001b[0m\u001b[0m\n",
      "\u001b[1;32mC:\\anaconda\\lib\\site-packages\\pandas\\core\\internals\\blocks.py\u001b[0m in \u001b[0;36mputmask\u001b[1;34m(self, mask, new, inplace, axis, transpose)\u001b[0m\n\u001b[0;32m    920\u001b[0m         \"\"\"\n\u001b[0;32m    921\u001b[0m         \u001b[0mmask\u001b[0m \u001b[1;33m=\u001b[0m \u001b[0m_extract_bool_array\u001b[0m\u001b[1;33m(\u001b[0m\u001b[0mmask\u001b[0m\u001b[1;33m)\u001b[0m\u001b[1;33m\u001b[0m\u001b[1;33m\u001b[0m\u001b[0m\n\u001b[1;32m--> 922\u001b[1;33m         \u001b[1;32massert\u001b[0m \u001b[1;32mnot\u001b[0m \u001b[0misinstance\u001b[0m\u001b[1;33m(\u001b[0m\u001b[0mnew\u001b[0m\u001b[1;33m,\u001b[0m \u001b[1;33m(\u001b[0m\u001b[0mABCIndexClass\u001b[0m\u001b[1;33m,\u001b[0m \u001b[0mABCSeries\u001b[0m\u001b[1;33m,\u001b[0m \u001b[0mABCDataFrame\u001b[0m\u001b[1;33m)\u001b[0m\u001b[1;33m)\u001b[0m\u001b[1;33m\u001b[0m\u001b[1;33m\u001b[0m\u001b[0m\n\u001b[0m\u001b[0;32m    923\u001b[0m \u001b[1;33m\u001b[0m\u001b[0m\n\u001b[0;32m    924\u001b[0m         \u001b[0mnew_values\u001b[0m \u001b[1;33m=\u001b[0m \u001b[0mself\u001b[0m\u001b[1;33m.\u001b[0m\u001b[0mvalues\u001b[0m  \u001b[1;31m# delay copy if possible.\u001b[0m\u001b[1;33m\u001b[0m\u001b[1;33m\u001b[0m\u001b[0m\n",
      "\u001b[1;31mAssertionError\u001b[0m: "
     ]
    }
   ],
   "source": [
    "# first_affiliate_tracked\n",
    "\n",
    "# NaN값을 랜덤한 변수로 채우기\n",
    "count_first_affiliate = 7    # len(np.unique(airbnb_df[\"first_affiliate_tracked\"].value_counts()))\n",
    "\n",
    "count_nan_department_airbnb = airbnb_df[\"first_affiliate_tracked\"].isnull().sum()\n",
    "count_nan_department_test   = test_df[\"first_affiliate_tracked\"].isnull().sum()\n",
    "\n",
    "rand_1 = np.random.randint(0, count_first_affiliate, size = count_nan_department_airbnb)\n",
    "rand_2 = np.random.randint(0, count_first_affiliate, size = count_nan_department_test)\n",
    "\n",
    "range_departments_airbnb = airbnb_df['first_affiliate_tracked'].value_counts().index\n",
    "range_departments_test   = test_df['first_affiliate_tracked'].value_counts().index\n",
    "\n",
    "airbnb_df[\"first_affiliate_tracked\"][airbnb_df[\"first_affiliate_tracked\"] != airbnb_df[\"first_affiliate_tracked\"]] = range_departments_airbnb[rand_1]\n",
    "test_df[\"first_affiliate_tracked\"][test_df[\"first_affiliate_tracked\"] != test_df[\"first_affiliate_tracked\"]]       = range_departments_test[rand_2]\n",
    "\n",
    "# drop columns\n",
    "# airbnb_df.drop(['first_affiliate_tracked'], axis=1,inplace=True)\n",
    "# test_df.drop(['first_affiliate_tracked'], axis=1,inplace=True)"
   ]
  },
  {
   "cell_type": "code",
   "execution_count": 33,
   "metadata": {},
   "outputs": [],
   "source": [
    "# signup_method\n",
    "airbnb_df[\"signup_method\"] = (airbnb_df[\"signup_method\"] == \"basic\").astype(int)\n",
    "test_df[\"signup_method\"]   = (test_df[\"signup_method\"] == \"basic\").astype(int)\n",
    "\n",
    "# signup_flow\n",
    "airbnb_df[\"signup_flow\"] = (airbnb_df[\"signup_flow\"] == 3).astype(int)\n",
    "test_df[\"signup_flow\"]   = (test_df[\"signup_flow\"] == 3).astype(int)\n",
    "\n",
    "# language\n",
    "airbnb_df[\"language\"] = (airbnb_df[\"language\"] == 'en').astype(int)\n",
    "test_df[\"language\"]   = (test_df[\"language\"] == 'en').astype(int)\n",
    "\n",
    "# affiliate_channel\n",
    "airbnb_df[\"affiliate_channel\"] = (airbnb_df[\"affiliate_channel\"] == 'direct').astype(int)\n",
    "test_df[\"affiliate_channel\"]   = (test_df[\"affiliate_channel\"] == 'direct').astype(int)\n",
    "\n",
    "# affiliate_provider\n",
    "airbnb_df[\"affiliate_provider\"] = (airbnb_df[\"affiliate_provider\"] == 'direct').astype(int)\n",
    "test_df[\"affiliate_provider\"]   = (test_df[\"affiliate_provider\"] == 'direct').astype(int)"
   ]
  },
  {
   "cell_type": "code",
   "execution_count": 34,
   "metadata": {},
   "outputs": [],
   "source": [
    "from sklearn import preprocessing\n",
    "\n",
    "for f in airbnb_df.columns:\n",
    "    if f == \"country_destination\" or f == \"id\": continue\n",
    "    if airbnb_df[f].dtype == 'object':\n",
    "        lbl = preprocessing.LabelEncoder()\n",
    "        lbl.fit(np.unique(list(airbnb_df[f].values) + list(test_df[f].values)))\n",
    "        airbnb_df[f] = lbl.transform(list(airbnb_df[f].values))\n",
    "        test_df[f]   = lbl.transform(list(test_df[f].values))"
   ]
  },
  {
   "cell_type": "code",
   "execution_count": 35,
   "metadata": {},
   "outputs": [],
   "source": [
    "X_train = airbnb_df.drop([\"country_destination\", \"id\", 'booked'],axis=1)\n",
    "Y_train = airbnb_df[\"country_destination\"]\n",
    "X_test  = test_df.drop(\"id\",axis=1).copy()"
   ]
  },
  {
   "cell_type": "code",
   "execution_count": 36,
   "metadata": {},
   "outputs": [],
   "source": [
    "# country_destination 값 수정\n",
    "country_num_dic = {'NDF': 0, 'US': 1, 'other': 2, 'FR': 3, 'IT': 4, 'GB': 5, 'ES': 6, 'CA': 7, 'DE': 8, 'NL': 9, 'AU': 10, 'PT': 11}\n",
    "num_country_dic = {y:x for x,y in country_num_dic.items()}\n",
    "\n",
    "Y_train    = Y_train.map(country_num_dic)"
   ]
  },
  {
   "cell_type": "code",
   "execution_count": 39,
   "metadata": {},
   "outputs": [
    {
     "name": "stdout",
     "output_type": "stream",
     "text": [
      "[14:36:51] WARNING: ..\\src\\learner.cc:1061: Starting in XGBoost 1.3.0, the default evaluation metric used with the objective 'multi:softmax' was changed from 'merror' to 'mlogloss'. Explicitly set eval_metric if you'd like to restore the old behavior.\n"
     ]
    }
   ],
   "source": [
    "# Xgboost \n",
    "\n",
    "params = {\"objective\": \"multi:softmax\", \"num_class\": 12}\n",
    "\n",
    "T_train_xgb = xgb.DMatrix(X_train, Y_train)\n",
    "X_test_xgb  = xgb.DMatrix(X_test)\n",
    "\n",
    "gbm = xgb.train(params, T_train_xgb, 20)\n",
    "Y_pred = gbm.predict(X_test_xgb)"
   ]
  },
  {
   "cell_type": "code",
   "execution_count": 40,
   "metadata": {},
   "outputs": [],
   "source": [
    "# convert type to integer\n",
    "Y_pred = Y_pred.astype(int)\n",
    "\n",
    "# change values back to original country symbols\n",
    "Y_pred = Series(Y_pred).map(num_country_dic)"
   ]
  },
  {
   "cell_type": "code",
   "execution_count": 41,
   "metadata": {},
   "outputs": [],
   "source": [
    "country_df = pd.DataFrame({\n",
    "        \"id\": test_df[\"id\"],\n",
    "        \"country\": Y_pred\n",
    "    })\n",
    "\n",
    "submission = DataFrame(columns=[\"id\", \"country\"])\n",
    "\n",
    "# sort countries according to most probable destination country \n",
    "for key in country_df['country'].value_counts().index:\n",
    "    submission = pd.concat([submission, country_df[country_df[\"country\"] == key]], ignore_index=True)\n",
    "\n",
    "submission.to_csv('airbnb.csv', index=False)"
   ]
  },
  {
   "cell_type": "code",
   "execution_count": null,
   "metadata": {},
   "outputs": [],
   "source": []
  }
 ],
 "metadata": {
  "kernelspec": {
   "display_name": "Python 3",
   "language": "python",
   "name": "python3"
  },
  "language_info": {
   "codemirror_mode": {
    "name": "ipython",
    "version": 3
   },
   "file_extension": ".py",
   "mimetype": "text/x-python",
   "name": "python",
   "nbconvert_exporter": "python",
   "pygments_lexer": "ipython3",
   "version": "3.8.5"
  }
 },
 "nbformat": 4,
 "nbformat_minor": 4
}
