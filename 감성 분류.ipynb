{
 "cells": [
  {
   "cell_type": "markdown",
   "id": "d811c72e",
   "metadata": {},
   "source": [
    "# 감정 분석(Sentiment Analysis)\n",
    "감정 분석은 텍스트에 등장하는 단어들을 통해 어떤 감정이 드러나는지 분석하는 기법\n",
    "\n",
    "감정 분석은 오피니언 마이닝으로도 불리며, 텍스트에 담긴 의견, 태도 등을 \n",
    "알아보는데 유용한 기법\n",
    "\n",
    "감정 분석을 하기 위해선 미리 정의된 감정 어휘 사전이 필요\n",
    "\n",
    "감정 어휘 사전에 포함된 어휘가 텍스트에 얼마나 분포하는지에 따라 해당 텍스트의 감정이 좌우\n",
    "\n",
    "토픽 모델링이 텍스트의 주제를 찾아낸다면, 감정 분석은 텍스트의 의견을 찾아냄\n",
    "\n",
    "텍스트는 주제(토픽)와 의견(감정)의 결합으로 이루어졌다고 볼 수 있음"
   ]
  },
  {
   "cell_type": "markdown",
   "id": "d4d326aa",
   "metadata": {},
   "source": [
    "감정 분석은 SNS, 리뷰 분석에 유용하게 사용할 수 있음\n",
    "\n",
    "특정 이슈에 대한 사람들의 감정을 실시간으로 분석한다면, 그에 대해 신속하게 대처 가능"
   ]
  },
  {
   "cell_type": "markdown",
   "id": "9c1c8945",
   "metadata": {},
   "source": [
    "파이썬으로 감정 분석하는 방법은 크게 두 가지로 구분\n",
    "\n",
    "1. 감정 어휘 사전을 이용한 감정 상태 분류\n",
    "\n",
    "1) 미리 분류해둔 감정어 사전을 통해 분석하고자 하는 텍스트의 단어들을 사전에 기반해 분류하고, 그 감정가를 계산\n",
    "\n",
    "2) 이 때 사용되는 감정어 사전에는 해당 감정에 해당되는 단어를 미리 정의해둬야 함\n",
    "\n",
    "2. 기계학습을 이용한 감정 상태 분류\n",
    "\n",
    "1) 분석 데이터의 일부를 훈련 데이터로 사용해 그로부터 텍스트의 감정 상태를 분류\n",
    "\n",
    "2) 이 때 사용되는 훈련 데이터는 사용자가 분류한 감정 라벨이 포함되어 있어야 하며,\n",
    "이를 인공 신경망, 의사 결정 트리 등의 기계 학습 알고리즘을 사용하여 분류"
   ]
  },
  {
   "cell_type": "code",
   "execution_count": 2,
   "id": "04083202",
   "metadata": {},
   "outputs": [
    {
     "name": "stdout",
     "output_type": "stream",
     "text": [
      "Collecting afinn\n",
      "  Downloading afinn-0.1.tar.gz (52 kB)\n",
      "Building wheels for collected packages: afinn\n",
      "  Building wheel for afinn (setup.py): started\n",
      "  Building wheel for afinn (setup.py): finished with status 'done'\n",
      "  Created wheel for afinn: filename=afinn-0.1-py3-none-any.whl size=53449 sha256=26d277d0242db6bb49882644b11e4a4a19b4b6dec5cbd33775a5b45dc275880f\n",
      "  Stored in directory: c:\\users\\이신행\\appdata\\local\\pip\\cache\\wheels\\9d\\16\\3a\\9f0953027434eab5dadf3f33ab3298fa95afa8292fcf7aba75\n",
      "Successfully built afinn\n",
      "Installing collected packages: afinn\n",
      "Successfully installed afinn-0.1\n"
     ]
    }
   ],
   "source": [
    "!pip install afinn"
   ]
  },
  {
   "cell_type": "code",
   "execution_count": 3,
   "id": "fc19d00a",
   "metadata": {},
   "outputs": [
    {
     "data": {
      "text/plain": [
       "\"From: lerxst@wam.umd.edu (where's my thing)\\nSubject: WHAT car is this!?\\nNntp-Posting-Host: rac3.wam.umd.edu\\nOrganization: University of Maryland, College Park\\nLines: 15\\n\\n I was wondering if anyone out there could enlighten me on this car I saw\\nthe other day. It was a 2-door sports car, looked to be from the late 60s/\\nearly 70s. It was called a Bricklin. The doors were really small. In addition,\\nthe front bumper was separate from the rest of the body. This is \\nall I know. If anyone can tellme a model name, engine specs, years\\nof production, where this car is made, history, or whatever info you\\nhave on this funky looking car, please e-mail.\\n\\nThanks,\\n- IL\\n   ---- brought to you by your neighborhood Lerxst ----\\n\\n\\n\\n\\n\""
      ]
     },
     "execution_count": 3,
     "metadata": {},
     "output_type": "execute_result"
    }
   ],
   "source": [
    "from sklearn.datasets import fetch_20newsgroups\n",
    "\n",
    "newsdata=fetch_20newsgroups(subset='train')\n",
    "newsdata.data[0]"
   ]
  },
  {
   "cell_type": "code",
   "execution_count": 5,
   "id": "1f74c6dd",
   "metadata": {},
   "outputs": [
    {
     "name": "stdout",
     "output_type": "stream",
     "text": [
      "7.0\n",
      "11.0\n",
      "16.0\n",
      "5.0\n",
      "-23.0\n",
      "-25.0\n",
      "7.0\n",
      "3.0\n",
      "16.0\n",
      "-20.0\n"
     ]
    }
   ],
   "source": [
    "from afinn import Afinn\n",
    "\n",
    "afinn=Afinn()\n",
    "for i in range(10):\n",
    "    print(afinn.score(newsdata.data[i]))"
   ]
  },
  {
   "cell_type": "code",
   "execution_count": 7,
   "id": "d8ebfaab",
   "metadata": {},
   "outputs": [
    {
     "data": {
      "image/png": "[encoded data removed]",
      "text/plain": [
       "<Figure size 432x288 with 1 Axes>"
      ]
     },
     "metadata": {},
     "output_type": "display_data"
    }
   ],
   "source": [
    "import numpy as np\n",
    "import matplotlib.pyplot as plt\n",
    "plt.style.use('seaborn-white')\n",
    "\n",
    "positive=0\n",
    "neutral=0\n",
    "negative=0\n",
    "\n",
    "for i in newsdata.data:\n",
    "    score=afinn.score(i)\n",
    "    if score >=0 :\n",
    "        positive+=1\n",
    "    elif score==0:\n",
    "        neutral+=1\n",
    "    else:\n",
    "        negative+=1\n",
    "        \n",
    "plt.bar(np.arange(3),[positive,neutral,negative])\n",
    "plt.xticks(np.arange(3),['positive','neutral','negative'])\n",
    "plt.show()"
   ]
  },
  {
   "cell_type": "code",
   "execution_count": 8,
   "id": "55b96fa9",
   "metadata": {},
   "outputs": [
    {
     "name": "stderr",
     "output_type": "stream",
     "text": [
      "-x  환경 변수가 정의되지 않았습니다.\n"
     ]
    }
   ],
   "source": [
    "!set -x\\\n",
    "&& pip install konlpy \\\n",
    "&& curl -s https://raw.githubusercontent.com/konlpy/konlpy/master/scripts/mecab.sh | bash -x"
   ]
  },
  {
   "cell_type": "code",
   "execution_count": null,
   "id": "92d42946",
   "metadata": {},
   "outputs": [],
   "source": []
  }
 ],
 "metadata": {
  "kernelspec": {
   "display_name": "Python 3 (ipykernel)",
   "language": "python",
   "name": "python3"
  },
  "language_info": {
   "codemirror_mode": {
    "name": "ipython",
    "version": 3
   },
   "file_extension": ".py",
   "mimetype": "text/x-python",
   "name": "python",
   "nbconvert_exporter": "python",
   "pygments_lexer": "ipython3",
   "version": "3.7.10"
  }
 },
 "nbformat": 4,
 "nbformat_minor": 5
}
